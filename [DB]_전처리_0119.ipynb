{
  "nbformat": 4,
  "nbformat_minor": 0,
  "metadata": {
    "colab": {
      "provenance": []
    },
    "kernelspec": {
      "name": "python3",
      "display_name": "Python 3"
    },
    "language_info": {
      "name": "python"
    }
  },
  "cells": [
    {
      "cell_type": "code",
      "execution_count": null,
      "metadata": {
        "id": "XU2MQGSxUCQc"
      },
      "outputs": [],
      "source": [
        "import pandas as pd"
      ]
    },
    {
      "cell_type": "code",
      "source": [
        "interest_rate = pd.read_csv(\"./대출금리.csv\" )\n",
        "buy_index = pd.read_csv(\"./아파트매매가격지수.csv\")\n",
        "year_index = pd.read_csv(\"./아파트전세가격지수.csv\")\n",
        "seoul_gu = pd.read_csv(\"./서울시 구.csv\")"
      ],
      "metadata": {
        "id": "fuX8pyg9lDqA"
      },
      "execution_count": null,
      "outputs": []
    },
    {
      "cell_type": "markdown",
      "source": [
        "# 1. 전처리"
      ],
      "metadata": {
        "id": "dJ9yGCdQoR4o"
      }
    },
    {
      "cell_type": "markdown",
      "source": [
        "### 1. 주택금리 전처리"
      ],
      "metadata": {
        "id": "t_ADOzlOoPaR"
      }
    },
    {
      "cell_type": "markdown",
      "source": [
        "##### 1.1) 주택담보대출 (연리%)만 가져오기"
      ],
      "metadata": {
        "id": "zxDkk8NwoVpG"
      }
    },
    {
      "cell_type": "code",
      "source": [
        "interest_rate2 = interest_rate[interest_rate['계정항목별'] == '주택담보대출 (연리%)'].transpose().reset_index(drop=False).iloc[1:]\n",
        "interest_rate2.columns = ['날짜', '주택담보대출 (연리%)']"
      ],
      "metadata": {
        "id": "psRJ_-r9oMWS"
      },
      "execution_count": null,
      "outputs": []
    },
    {
      "cell_type": "markdown",
      "source": [
        "1.2) 날짜 형식 통일"
      ],
      "metadata": {
        "id": "KwPMBd-hqSQ7"
      }
    },
    {
      "cell_type": "code",
      "source": [
        "interest_rate2['날짜'] = pd.to_datetime(interest_rate2['날짜'])"
      ],
      "metadata": {
        "id": "XvtXbWHKolVp"
      },
      "execution_count": null,
      "outputs": []
    },
    {
      "cell_type": "code",
      "source": [
        "interest_rate3 = interest_rate2.set_index('날짜')"
      ],
      "metadata": {
        "id": "tYe15SJ2_Lx0"
      },
      "execution_count": null,
      "outputs": []
    },
    {
      "cell_type": "markdown",
      "source": [
        "### 2. 아파트 매매가격지수 전처리"
      ],
      "metadata": {
        "id": "PseUaqwqsnrp"
      }
    },
    {
      "cell_type": "markdown",
      "source": [
        "#### 2.1) 서울시만 가져오기"
      ],
      "metadata": {
        "id": "GCFavWQdvR20"
      }
    },
    {
      "cell_type": "code",
      "source": [
        "gu_list = seoul_gu['구'].to_list()"
      ],
      "metadata": {
        "id": "6e59GfwOtipc"
      },
      "execution_count": null,
      "outputs": []
    },
    {
      "cell_type": "code",
      "source": [
        "buy_index2 = buy_index.rename(columns={'구분':'날짜'}, inplace = 'TRUE')\n",
        "buy_index3 = buy_index.set_index('날짜')[gu_list].iloc[1:]"
      ],
      "metadata": {
        "id": "rWaCMRM_uTfH"
      },
      "execution_count": null,
      "outputs": []
    },
    {
      "cell_type": "markdown",
      "source": [
        "#### 2.1) 월별 평균 지수로 변경"
      ],
      "metadata": {
        "id": "_WlmDU0NyAuJ"
      }
    },
    {
      "cell_type": "code",
      "source": [
        "buy_index3 = buy_index3.reset_index()\n",
        "buy_index3['날짜'] = pd.to_datetime(buy_index3['날짜'])\n",
        "buy_index3['month'] = buy_index3['날짜'].dt.month\n",
        "buy_index3['year'] = buy_index3['날짜'].dt.year"
      ],
      "metadata": {
        "id": "gdX_gCmZx2JP"
      },
      "execution_count": null,
      "outputs": []
    },
    {
      "cell_type": "code",
      "source": [
        "# 수치형으로 변경\n",
        "forint = buy_index3.columns.difference(['year', 'month','날짜'])\n",
        "buy_index3[forint] = buy_index3[forint].apply(pd.to_numeric, errors='coerce')"
      ],
      "metadata": {
        "id": "AE-O0Q0swIff"
      },
      "execution_count": null,
      "outputs": []
    },
    {
      "cell_type": "code",
      "source": [
        "#월별 평균지수\n",
        "buy_index3 = buy_index3.groupby(['year','month']).mean().reset_index()\n",
        "buy_index3['날짜'] = buy_index3['year'].astype(str) + '-' + buy_index3['month'].astype(str)\n",
        "buy_index3['날짜'] = pd.to_datetime(buy_index3['날짜'], format='%Y-%m')\n",
        "buy_index3 = buy_index3.drop(columns = ['month','year'], axis = 1)"
      ],
      "metadata": {
        "colab": {
          "base_uri": "https://localhost:8080/"
        },
        "id": "eXgXCh2WzbM1",
        "outputId": "64a24262-bd5c-4451-c337-35794660521e"
      },
      "execution_count": null,
      "outputs": [
        {
          "output_type": "stream",
          "name": "stderr",
          "text": [
            "<ipython-input-11-744469dd52d1>:2: FutureWarning: The default value of numeric_only in DataFrameGroupBy.mean is deprecated. In a future version, numeric_only will default to False. Either specify numeric_only or select only columns which should be valid for the function.\n",
            "  buy_index3 = buy_index3.groupby(['year','month']).mean().reset_index()\n"
          ]
        }
      ]
    },
    {
      "cell_type": "code",
      "source": [
        "#2015년 1월1일 ~ 2023년 11월 1일까지만 가져오기\n",
        "buy_index4 = buy_index3[(buy_index3['날짜'] >= '2015-01-01') & (buy_index3['날짜'] <= '2023-11-01')]"
      ],
      "metadata": {
        "id": "XNTuS_G0daAO"
      },
      "execution_count": null,
      "outputs": []
    },
    {
      "cell_type": "markdown",
      "source": [
        "### 3. 아파트 전세가격지수 전처리"
      ],
      "metadata": {
        "id": "dzyhKwtlATfu"
      }
    },
    {
      "cell_type": "code",
      "source": [
        "year_index2 = year_index.rename(columns={'구분':'날짜'}, inplace = 'TRUE')\n",
        "year_index3 = year_index.set_index('날짜')[gu_list].iloc[1:]\n",
        "year_index3 = year_index3.reset_index()\n",
        "year_index3['날짜'] = pd.to_datetime(year_index3['날짜'])\n",
        "year_index3['month'] = year_index3['날짜'].dt.month\n",
        "year_index3['year'] = year_index3['날짜'].dt.year"
      ],
      "metadata": {
        "id": "RkaS5zvPAWIr"
      },
      "execution_count": null,
      "outputs": []
    },
    {
      "cell_type": "code",
      "source": [
        "# 수치형으로 변경\n",
        "forint = year_index3.columns.difference(['year', 'month','날짜'])\n",
        "year_index3[forint] = year_index3[forint].apply(pd.to_numeric, errors='coerce')\n",
        "\n",
        "#월별 평균지수\n",
        "year_index3 = year_index3.groupby(['year','month']).mean().reset_index()\n",
        "year_index3['날짜'] = year_index3['year'].astype(str) + '-' + year_index3['month'].astype(str)\n",
        "year_index3['날짜'] = pd.to_datetime(year_index3['날짜'], format='%Y-%m')\n",
        "year_index3 = year_index3.drop(columns = ['month','year'], axis = 1)"
      ],
      "metadata": {
        "colab": {
          "base_uri": "https://localhost:8080/"
        },
        "id": "oOWcAslACyr9",
        "outputId": "127a6139-be65-4cdd-8f07-609127313d6b"
      },
      "execution_count": null,
      "outputs": [
        {
          "output_type": "stream",
          "name": "stderr",
          "text": [
            "<ipython-input-14-bf03bfd976b4>:6: FutureWarning: The default value of numeric_only in DataFrameGroupBy.mean is deprecated. In a future version, numeric_only will default to False. Either specify numeric_only or select only columns which should be valid for the function.\n",
            "  year_index3 = year_index3.groupby(['year','month']).mean().reset_index()\n"
          ]
        }
      ]
    },
    {
      "cell_type": "code",
      "source": [
        "#2015년 1월1일 ~ 2023년 11월 1일까지만 가져오기\n",
        "year_index4 = year_index3[(year_index3['날짜'] >= '2015-01-01') & (year_index3['날짜'] <= '2023-11-01')]"
      ],
      "metadata": {
        "id": "fHRD2dWBAYCN"
      },
      "execution_count": null,
      "outputs": []
    },
    {
      "cell_type": "markdown",
      "source": [
        "### 4. 임대료 데이터 만들기\n",
        "전세/매매가격  * 주택담보대출금리 / 12"
      ],
      "metadata": {
        "id": "aT-hfmJcdp94"
      }
    },
    {
      "cell_type": "code",
      "source": [
        "buy_index5 = buy_index4.set_index('날짜')\n",
        "year_index5 = year_index4.set_index('날짜')"
      ],
      "metadata": {
        "id": "kU495RUnfTQW"
      },
      "execution_count": null,
      "outputs": []
    },
    {
      "cell_type": "code",
      "source": [
        "rent = year_index5 / buy_index5 #전세/매매가격"
      ],
      "metadata": {
        "id": "OXJGjJBGfHo_"
      },
      "execution_count": null,
      "outputs": []
    },
    {
      "cell_type": "code",
      "source": [
        "columns = rent.columns\n",
        "rent = rent.reset_index()\n",
        "for i in columns  :\n",
        "  rent[i] = rent[i] / interest_rate3.reset_index()['주택담보대출 (연리%)'] /12\n",
        "rent = rent.set_index('날짜').apply(pd.to_numeric, errors='coerce')"
      ],
      "metadata": {
        "id": "4SxGPAYggquY"
      },
      "execution_count": null,
      "outputs": []
    },
    {
      "cell_type": "code",
      "source": [
        "rent.to_csv(\"./rent.csv\")\n",
        "buy_index5.to_csv(\"./buy.csv\")"
      ],
      "metadata": {
        "id": "c1TdNLL1HyA-"
      },
      "execution_count": null,
      "outputs": []
    }
  ]
}