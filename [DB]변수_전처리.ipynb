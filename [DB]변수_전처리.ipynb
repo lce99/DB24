{
  "nbformat": 4,
  "nbformat_minor": 0,
  "metadata": {
    "colab": {
      "provenance": []
    },
    "kernelspec": {
      "name": "python3",
      "display_name": "Python 3"
    },
    "language_info": {
      "name": "python"
    }
  },
  "cells": [
    {
      "cell_type": "code",
      "execution_count": 61,
      "metadata": {
        "id": "udltsQpSF0eK"
      },
      "outputs": [],
      "source": [
        "import numpy as np\n",
        "import pandas as pd"
      ]
    },
    {
      "cell_type": "code",
      "source": [
        "선행지수 = pd.read_csv(\"./_경기선행지수.csv\")\n",
        "건설업주가지수 = pd.read_csv(\"./_건설업주가지수.csv\")\n",
        "국고채 = pd.read_csv(\"./_국고채(3년).csv\")\n",
        "GDP = pd.read_csv(\"./_명목GDP_실질GDP변화율.csv\")\n",
        "산업생산지수 = pd.read_csv(\"./_산업생산지수.csv\")\n",
        "소비자물가지수 = pd.read_csv(\"./_소비자물가지수.csv\")\n",
        "코스피 = pd.read_csv(\"./_코스피지수.csv\")\n",
        "환율 = pd.read_csv(\"./_환율.csv\")"
      ],
      "metadata": {
        "id": "qUr2T_QfICc2"
      },
      "execution_count": 62,
      "outputs": []
    },
    {
      "cell_type": "markdown",
      "source": [
        "* 선행지수, 건설업주가지수, 소비자물가지수, 산업생산지수, 환율"
      ],
      "metadata": {
        "id": "16r4FZ50tGMk"
      }
    },
    {
      "cell_type": "code",
      "source": [
        "선행지수['날짜'] = pd.to_datetime(선행지수['날짜'], format='%Y.%m')\n",
        "선행지수['날짜'] =  pd.to_datetime(선행지수['날짜'].dt.strftime('%Y-%m'))"
      ],
      "metadata": {
        "id": "hGGxo7WXjkUU"
      },
      "execution_count": 63,
      "outputs": []
    },
    {
      "cell_type": "code",
      "source": [
        "건설업주가지수['날짜'] = pd.to_datetime(건설업주가지수['날짜'].apply(lambda x: f\"{int(x):04d}-{int((x * 100) % 100):02d}\"))"
      ],
      "metadata": {
        "id": "n01ac0Zs5DBC"
      },
      "execution_count": 64,
      "outputs": []
    },
    {
      "cell_type": "code",
      "source": [
        "소비자물가지수['날짜'] =  pd.to_datetime(소비자물가지수['날짜'].apply(lambda x: f\"{int(x):04d}-{int((x * 100) % 100):02d}\"))"
      ],
      "metadata": {
        "id": "Ppmau9Ii5L5H"
      },
      "execution_count": 65,
      "outputs": []
    },
    {
      "cell_type": "code",
      "source": [
        "산업생산지수['날짜'][산업생산지수['날짜'] == '2023.11 p)'] = '2023.11'\n",
        "산업생산지수['날짜'][산업생산지수['날짜'] == '2023.12 p)'] = '2023.12'\n",
        "\n",
        "산업생산지수['날짜'] = pd.to_datetime(산업생산지수['날짜'])\n",
        "산업생산지수['날짜'] = pd.to_datetime(산업생산지수['날짜'].dt.strftime('%Y-%m'))"
      ],
      "metadata": {
        "colab": {
          "base_uri": "https://localhost:8080/"
        },
        "id": "ebB1j_WwlMcB",
        "outputId": "0910a4c5-f884-4d42-873e-d6745531686a"
      },
      "execution_count": 66,
      "outputs": [
        {
          "output_type": "stream",
          "name": "stderr",
          "text": [
            "<ipython-input-66-4c1a1d2e30ed>:1: SettingWithCopyWarning: \n",
            "A value is trying to be set on a copy of a slice from a DataFrame\n",
            "\n",
            "See the caveats in the documentation: https://pandas.pydata.org/pandas-docs/stable/user_guide/indexing.html#returning-a-view-versus-a-copy\n",
            "  산업생산지수['날짜'][산업생산지수['날짜'] == '2023.11 p)'] = '2023.11'\n",
            "<ipython-input-66-4c1a1d2e30ed>:2: SettingWithCopyWarning: \n",
            "A value is trying to be set on a copy of a slice from a DataFrame\n",
            "\n",
            "See the caveats in the documentation: https://pandas.pydata.org/pandas-docs/stable/user_guide/indexing.html#returning-a-view-versus-a-copy\n",
            "  산업생산지수['날짜'][산업생산지수['날짜'] == '2023.12 p)'] = '2023.12'\n"
          ]
        }
      ]
    },
    {
      "cell_type": "code",
      "source": [
        "환율['날짜'] = pd.to_datetime(pd.to_datetime(환율['날짜']).dt.strftime('%Y-%m'))\n"
      ],
      "metadata": {
        "id": "cwVHhOrkvsSf"
      },
      "execution_count": 67,
      "outputs": []
    },
    {
      "cell_type": "code",
      "source": [
        "환율 = 환율.rename(columns={'종가' : '환율'})"
      ],
      "metadata": {
        "id": "_On0MjheDSRT"
      },
      "execution_count": 68,
      "outputs": []
    },
    {
      "cell_type": "code",
      "source": [
        "환율['환율'] = 환율['환율'].str.replace(',', '').astype(float)"
      ],
      "metadata": {
        "id": "tJKBN6S7C6q-"
      },
      "execution_count": 69,
      "outputs": []
    },
    {
      "cell_type": "markdown",
      "source": [
        "* 국고채 전처리"
      ],
      "metadata": {
        "id": "KkPhyzYHlNBQ"
      }
    },
    {
      "cell_type": "code",
      "source": [
        "# '월'제거 후 날짜데이터타입으로 변경\n",
        "국고채['날짜'] = pd.to_datetime(국고채['날짜'].str.replace('월', ''), format='%Y%m')\n",
        "\n",
        "# 중복행 제거\n",
        "국고채 = 국고채.drop_duplicates().reset_index(drop=True)\n",
        "국고채['날짜'] =  pd.to_datetime(국고채['날짜'].dt.strftime('%Y-%m'))"
      ],
      "metadata": {
        "id": "dEuNhgmTl5kY"
      },
      "execution_count": 70,
      "outputs": []
    },
    {
      "cell_type": "markdown",
      "source": [
        "* GDP 전처리"
      ],
      "metadata": {
        "id": "d2TL1pPToLYC"
      }
    },
    {
      "cell_type": "code",
      "source": [
        "GDP = GDP.loc[:82]"
      ],
      "metadata": {
        "id": "VZqKn4ecogdI"
      },
      "execution_count": 71,
      "outputs": []
    },
    {
      "cell_type": "code",
      "source": [
        "# ','제거 후 수치형으로 변경\n",
        "GDP = GDP.loc[:82]\n",
        "GDP['국내총생산(명목GDP)'] = GDP['국내총생산(명목GDP)'].str.replace(',', '').astype(float)\n",
        "\n",
        "# 분기별 값은 해당 분기에 해당하는 월별 값으로 설정하는 함수 정의\n",
        "def 분기to월 (row):\n",
        "    year_분기 = row['날짜']\n",
        "    year = int(year_분기[:4]) #year만 가져옴\n",
        "    분기 = int(year_분기[4]) #분기만 가져옴\n",
        "    months_in_분기 = [(year, 분기 * 3 - 2), (year, 분기 * 3 - 1), (year, 분기 * 3)] #해당 분기에 해당하는 월 list\n",
        "    return pd.DataFrame({\n",
        "        '날짜': [f\"{year}{month:02d}\" for year, month in months_in_분기],\n",
        "        '국내총생산(명목GDP)': [row['국내총생산(명목GDP)']] * 3,\n",
        "        '경제성장률(실질GDP성장률)': [row['경제성장률(실질GDP성장률)']] * 3\n",
        "    })\n",
        "\n",
        "gdp_new = pd.concat([분기to월(row) for index, row in GDP.iterrows()])\n",
        "\n",
        "gdp_new.reset_index(drop=True, inplace=True)\n",
        "gdp_new['날짜'] = pd.to_datetime(gdp_new['날짜'], format='%Y%m')\n",
        "\n",
        "gdp_new['날짜'] = pd.to_datetime(gdp_new['날짜'].dt.strftime('%Y-%m'))\n",
        "#gdp_new = gdp_new.set_index('날짜')"
      ],
      "metadata": {
        "id": "uCc3pDHinwJc"
      },
      "execution_count": 72,
      "outputs": []
    },
    {
      "cell_type": "code",
      "source": [
        "GDP"
      ],
      "metadata": {
        "colab": {
          "base_uri": "https://localhost:8080/",
          "height": 424
        },
        "id": "n0zybK2koPNU",
        "outputId": "dd981cbb-e86f-405f-f410-7c3a10d53ffe"
      },
      "execution_count": 73,
      "outputs": [
        {
          "output_type": "execute_result",
          "data": {
            "text/plain": [
              "         날짜  국내총생산(명목GDP)  경제성장률(실질GDP성장률)\n",
              "0   20031/4      196663.6              4.2\n",
              "1   20032/4      205785.3              2.3\n",
              "2   20033/4      209454.4              2.1\n",
              "3   20034/4      225461.8              4.0\n",
              "4   20041/4      213471.2              5.8\n",
              "..      ...           ...              ...\n",
              "78  20223/4      548892.5              3.2\n",
              "79  20224/4      556628.7              1.4\n",
              "80  20231/4      523816.2              0.9\n",
              "81  20232/4      551569.1              0.9\n",
              "82  20233/4      563900.0              0.6\n",
              "\n",
              "[83 rows x 3 columns]"
            ],
            "text/html": [
              "\n",
              "  <div id=\"df-e024fef3-786d-42de-b0c8-efc105491523\" class=\"colab-df-container\">\n",
              "    <div>\n",
              "<style scoped>\n",
              "    .dataframe tbody tr th:only-of-type {\n",
              "        vertical-align: middle;\n",
              "    }\n",
              "\n",
              "    .dataframe tbody tr th {\n",
              "        vertical-align: top;\n",
              "    }\n",
              "\n",
              "    .dataframe thead th {\n",
              "        text-align: right;\n",
              "    }\n",
              "</style>\n",
              "<table border=\"1\" class=\"dataframe\">\n",
              "  <thead>\n",
              "    <tr style=\"text-align: right;\">\n",
              "      <th></th>\n",
              "      <th>날짜</th>\n",
              "      <th>국내총생산(명목GDP)</th>\n",
              "      <th>경제성장률(실질GDP성장률)</th>\n",
              "    </tr>\n",
              "  </thead>\n",
              "  <tbody>\n",
              "    <tr>\n",
              "      <th>0</th>\n",
              "      <td>20031/4</td>\n",
              "      <td>196663.6</td>\n",
              "      <td>4.2</td>\n",
              "    </tr>\n",
              "    <tr>\n",
              "      <th>1</th>\n",
              "      <td>20032/4</td>\n",
              "      <td>205785.3</td>\n",
              "      <td>2.3</td>\n",
              "    </tr>\n",
              "    <tr>\n",
              "      <th>2</th>\n",
              "      <td>20033/4</td>\n",
              "      <td>209454.4</td>\n",
              "      <td>2.1</td>\n",
              "    </tr>\n",
              "    <tr>\n",
              "      <th>3</th>\n",
              "      <td>20034/4</td>\n",
              "      <td>225461.8</td>\n",
              "      <td>4.0</td>\n",
              "    </tr>\n",
              "    <tr>\n",
              "      <th>4</th>\n",
              "      <td>20041/4</td>\n",
              "      <td>213471.2</td>\n",
              "      <td>5.8</td>\n",
              "    </tr>\n",
              "    <tr>\n",
              "      <th>...</th>\n",
              "      <td>...</td>\n",
              "      <td>...</td>\n",
              "      <td>...</td>\n",
              "    </tr>\n",
              "    <tr>\n",
              "      <th>78</th>\n",
              "      <td>20223/4</td>\n",
              "      <td>548892.5</td>\n",
              "      <td>3.2</td>\n",
              "    </tr>\n",
              "    <tr>\n",
              "      <th>79</th>\n",
              "      <td>20224/4</td>\n",
              "      <td>556628.7</td>\n",
              "      <td>1.4</td>\n",
              "    </tr>\n",
              "    <tr>\n",
              "      <th>80</th>\n",
              "      <td>20231/4</td>\n",
              "      <td>523816.2</td>\n",
              "      <td>0.9</td>\n",
              "    </tr>\n",
              "    <tr>\n",
              "      <th>81</th>\n",
              "      <td>20232/4</td>\n",
              "      <td>551569.1</td>\n",
              "      <td>0.9</td>\n",
              "    </tr>\n",
              "    <tr>\n",
              "      <th>82</th>\n",
              "      <td>20233/4</td>\n",
              "      <td>563900.0</td>\n",
              "      <td>0.6</td>\n",
              "    </tr>\n",
              "  </tbody>\n",
              "</table>\n",
              "<p>83 rows × 3 columns</p>\n",
              "</div>\n",
              "    <div class=\"colab-df-buttons\">\n",
              "\n",
              "  <div class=\"colab-df-container\">\n",
              "    <button class=\"colab-df-convert\" onclick=\"convertToInteractive('df-e024fef3-786d-42de-b0c8-efc105491523')\"\n",
              "            title=\"Convert this dataframe to an interactive table.\"\n",
              "            style=\"display:none;\">\n",
              "\n",
              "  <svg xmlns=\"http://www.w3.org/2000/svg\" height=\"24px\" viewBox=\"0 -960 960 960\">\n",
              "    <path d=\"M120-120v-720h720v720H120Zm60-500h600v-160H180v160Zm220 220h160v-160H400v160Zm0 220h160v-160H400v160ZM180-400h160v-160H180v160Zm440 0h160v-160H620v160ZM180-180h160v-160H180v160Zm440 0h160v-160H620v160Z\"/>\n",
              "  </svg>\n",
              "    </button>\n",
              "\n",
              "  <style>\n",
              "    .colab-df-container {\n",
              "      display:flex;\n",
              "      gap: 12px;\n",
              "    }\n",
              "\n",
              "    .colab-df-convert {\n",
              "      background-color: #E8F0FE;\n",
              "      border: none;\n",
              "      border-radius: 50%;\n",
              "      cursor: pointer;\n",
              "      display: none;\n",
              "      fill: #1967D2;\n",
              "      height: 32px;\n",
              "      padding: 0 0 0 0;\n",
              "      width: 32px;\n",
              "    }\n",
              "\n",
              "    .colab-df-convert:hover {\n",
              "      background-color: #E2EBFA;\n",
              "      box-shadow: 0px 1px 2px rgba(60, 64, 67, 0.3), 0px 1px 3px 1px rgba(60, 64, 67, 0.15);\n",
              "      fill: #174EA6;\n",
              "    }\n",
              "\n",
              "    .colab-df-buttons div {\n",
              "      margin-bottom: 4px;\n",
              "    }\n",
              "\n",
              "    [theme=dark] .colab-df-convert {\n",
              "      background-color: #3B4455;\n",
              "      fill: #D2E3FC;\n",
              "    }\n",
              "\n",
              "    [theme=dark] .colab-df-convert:hover {\n",
              "      background-color: #434B5C;\n",
              "      box-shadow: 0px 1px 3px 1px rgba(0, 0, 0, 0.15);\n",
              "      filter: drop-shadow(0px 1px 2px rgba(0, 0, 0, 0.3));\n",
              "      fill: #FFFFFF;\n",
              "    }\n",
              "  </style>\n",
              "\n",
              "    <script>\n",
              "      const buttonEl =\n",
              "        document.querySelector('#df-e024fef3-786d-42de-b0c8-efc105491523 button.colab-df-convert');\n",
              "      buttonEl.style.display =\n",
              "        google.colab.kernel.accessAllowed ? 'block' : 'none';\n",
              "\n",
              "      async function convertToInteractive(key) {\n",
              "        const element = document.querySelector('#df-e024fef3-786d-42de-b0c8-efc105491523');\n",
              "        const dataTable =\n",
              "          await google.colab.kernel.invokeFunction('convertToInteractive',\n",
              "                                                    [key], {});\n",
              "        if (!dataTable) return;\n",
              "\n",
              "        const docLinkHtml = 'Like what you see? Visit the ' +\n",
              "          '<a target=\"_blank\" href=https://colab.research.google.com/notebooks/data_table.ipynb>data table notebook</a>'\n",
              "          + ' to learn more about interactive tables.';\n",
              "        element.innerHTML = '';\n",
              "        dataTable['output_type'] = 'display_data';\n",
              "        await google.colab.output.renderOutput(dataTable, element);\n",
              "        const docLink = document.createElement('div');\n",
              "        docLink.innerHTML = docLinkHtml;\n",
              "        element.appendChild(docLink);\n",
              "      }\n",
              "    </script>\n",
              "  </div>\n",
              "\n",
              "\n",
              "<div id=\"df-72c8be92-08d0-40a5-8377-766740fdb0b7\">\n",
              "  <button class=\"colab-df-quickchart\" onclick=\"quickchart('df-72c8be92-08d0-40a5-8377-766740fdb0b7')\"\n",
              "            title=\"Suggest charts\"\n",
              "            style=\"display:none;\">\n",
              "\n",
              "<svg xmlns=\"http://www.w3.org/2000/svg\" height=\"24px\"viewBox=\"0 0 24 24\"\n",
              "     width=\"24px\">\n",
              "    <g>\n",
              "        <path d=\"M19 3H5c-1.1 0-2 .9-2 2v14c0 1.1.9 2 2 2h14c1.1 0 2-.9 2-2V5c0-1.1-.9-2-2-2zM9 17H7v-7h2v7zm4 0h-2V7h2v10zm4 0h-2v-4h2v4z\"/>\n",
              "    </g>\n",
              "</svg>\n",
              "  </button>\n",
              "\n",
              "<style>\n",
              "  .colab-df-quickchart {\n",
              "      --bg-color: #E8F0FE;\n",
              "      --fill-color: #1967D2;\n",
              "      --hover-bg-color: #E2EBFA;\n",
              "      --hover-fill-color: #174EA6;\n",
              "      --disabled-fill-color: #AAA;\n",
              "      --disabled-bg-color: #DDD;\n",
              "  }\n",
              "\n",
              "  [theme=dark] .colab-df-quickchart {\n",
              "      --bg-color: #3B4455;\n",
              "      --fill-color: #D2E3FC;\n",
              "      --hover-bg-color: #434B5C;\n",
              "      --hover-fill-color: #FFFFFF;\n",
              "      --disabled-bg-color: #3B4455;\n",
              "      --disabled-fill-color: #666;\n",
              "  }\n",
              "\n",
              "  .colab-df-quickchart {\n",
              "    background-color: var(--bg-color);\n",
              "    border: none;\n",
              "    border-radius: 50%;\n",
              "    cursor: pointer;\n",
              "    display: none;\n",
              "    fill: var(--fill-color);\n",
              "    height: 32px;\n",
              "    padding: 0;\n",
              "    width: 32px;\n",
              "  }\n",
              "\n",
              "  .colab-df-quickchart:hover {\n",
              "    background-color: var(--hover-bg-color);\n",
              "    box-shadow: 0 1px 2px rgba(60, 64, 67, 0.3), 0 1px 3px 1px rgba(60, 64, 67, 0.15);\n",
              "    fill: var(--button-hover-fill-color);\n",
              "  }\n",
              "\n",
              "  .colab-df-quickchart-complete:disabled,\n",
              "  .colab-df-quickchart-complete:disabled:hover {\n",
              "    background-color: var(--disabled-bg-color);\n",
              "    fill: var(--disabled-fill-color);\n",
              "    box-shadow: none;\n",
              "  }\n",
              "\n",
              "  .colab-df-spinner {\n",
              "    border: 2px solid var(--fill-color);\n",
              "    border-color: transparent;\n",
              "    border-bottom-color: var(--fill-color);\n",
              "    animation:\n",
              "      spin 1s steps(1) infinite;\n",
              "  }\n",
              "\n",
              "  @keyframes spin {\n",
              "    0% {\n",
              "      border-color: transparent;\n",
              "      border-bottom-color: var(--fill-color);\n",
              "      border-left-color: var(--fill-color);\n",
              "    }\n",
              "    20% {\n",
              "      border-color: transparent;\n",
              "      border-left-color: var(--fill-color);\n",
              "      border-top-color: var(--fill-color);\n",
              "    }\n",
              "    30% {\n",
              "      border-color: transparent;\n",
              "      border-left-color: var(--fill-color);\n",
              "      border-top-color: var(--fill-color);\n",
              "      border-right-color: var(--fill-color);\n",
              "    }\n",
              "    40% {\n",
              "      border-color: transparent;\n",
              "      border-right-color: var(--fill-color);\n",
              "      border-top-color: var(--fill-color);\n",
              "    }\n",
              "    60% {\n",
              "      border-color: transparent;\n",
              "      border-right-color: var(--fill-color);\n",
              "    }\n",
              "    80% {\n",
              "      border-color: transparent;\n",
              "      border-right-color: var(--fill-color);\n",
              "      border-bottom-color: var(--fill-color);\n",
              "    }\n",
              "    90% {\n",
              "      border-color: transparent;\n",
              "      border-bottom-color: var(--fill-color);\n",
              "    }\n",
              "  }\n",
              "</style>\n",
              "\n",
              "  <script>\n",
              "    async function quickchart(key) {\n",
              "      const quickchartButtonEl =\n",
              "        document.querySelector('#' + key + ' button');\n",
              "      quickchartButtonEl.disabled = true;  // To prevent multiple clicks.\n",
              "      quickchartButtonEl.classList.add('colab-df-spinner');\n",
              "      try {\n",
              "        const charts = await google.colab.kernel.invokeFunction(\n",
              "            'suggestCharts', [key], {});\n",
              "      } catch (error) {\n",
              "        console.error('Error during call to suggestCharts:', error);\n",
              "      }\n",
              "      quickchartButtonEl.classList.remove('colab-df-spinner');\n",
              "      quickchartButtonEl.classList.add('colab-df-quickchart-complete');\n",
              "    }\n",
              "    (() => {\n",
              "      let quickchartButtonEl =\n",
              "        document.querySelector('#df-72c8be92-08d0-40a5-8377-766740fdb0b7 button');\n",
              "      quickchartButtonEl.style.display =\n",
              "        google.colab.kernel.accessAllowed ? 'block' : 'none';\n",
              "    })();\n",
              "  </script>\n",
              "</div>\n",
              "    </div>\n",
              "  </div>\n"
            ],
            "application/vnd.google.colaboratory.intrinsic+json": {
              "type": "dataframe",
              "variable_name": "GDP",
              "summary": "{\n  \"name\": \"GDP\",\n  \"rows\": 83,\n  \"fields\": [\n    {\n      \"column\": \"\\ub0a0\\uc9dc\",\n      \"properties\": {\n        \"dtype\": \"string\",\n        \"num_unique_values\": 83,\n        \"samples\": [\n          \"20103/4\",\n          \"20031/4\",\n          \"20083/4\"\n        ],\n        \"semantic_type\": \"\",\n        \"description\": \"\"\n      }\n    },\n    {\n      \"column\": \"\\uad6d\\ub0b4\\ucd1d\\uc0dd\\uc0b0(\\uba85\\ubaa9GDP)\",\n      \"properties\": {\n        \"dtype\": \"number\",\n        \"std\": 105927.20427115228,\n        \"min\": 196663.6,\n        \"max\": 563900.0,\n        \"num_unique_values\": 83,\n        \"samples\": [\n          334833.6,\n          196663.6,\n          295242.9\n        ],\n        \"semantic_type\": \"\",\n        \"description\": \"\"\n      }\n    },\n    {\n      \"column\": \"\\uacbd\\uc81c\\uc131\\uc7a5\\ub960(\\uc2e4\\uc9c8GDP\\uc131\\uc7a5\\ub960)\",\n      \"properties\": {\n        \"dtype\": \"number\",\n        \"std\": 2.0509087884774715,\n        \"min\": -2.6,\n        \"max\": 7.9,\n        \"num_unique_values\": 49,\n        \"samples\": [\n          4.8,\n          -0.7,\n          4.3\n        ],\n        \"semantic_type\": \"\",\n        \"description\": \"\"\n      }\n    }\n  ]\n}"
            }
          },
          "metadata": {},
          "execution_count": 73
        }
      ]
    },
    {
      "cell_type": "markdown",
      "source": [
        "* 코스피"
      ],
      "metadata": {
        "id": "55fpeo7EtD4K"
      }
    },
    {
      "cell_type": "code",
      "source": [
        "코스피['종가'] = 코스피['종가'].str.replace(',', '').astype(float)\n",
        "코스피['날짜'] = pd.to_datetime(코스피['날짜'])\n",
        "코스피['날짜'] = pd.to_datetime(코스피['날짜'].dt.strftime('%Y-%m'))\n",
        "코스피 = 코스피.sort_values('날짜').reset_index(drop = True)"
      ],
      "metadata": {
        "id": "-5GzKU6a2LJq"
      },
      "execution_count": 74,
      "outputs": []
    },
    {
      "cell_type": "markdown",
      "source": [
        "### 새로운 구별 변수 데이터 전처리 시작"
      ],
      "metadata": {
        "id": "Ow3yHID1CgMa"
      }
    },
    {
      "cell_type": "code",
      "source": [
        "아파트거래 = pd.read_csv(\"./월별_아파트거래.csv\")\n",
        "아파트매매 = pd.read_csv(\"./월별_아파트매매.csv\")\n",
        "지가변동누적률 = pd.read_csv(\"./지가변동률_월별.csv\")\n",
        "가계대출 = pd.read_csv(\"./분기별 가계대출.csv\")\n",
        "물가상승률 = pd.read_csv(\"./물가상승률.csv\")"
      ],
      "metadata": {
        "id": "HFnBkfN9ChwI"
      },
      "execution_count": 75,
      "outputs": []
    },
    {
      "cell_type": "markdown",
      "source": [
        "##### 아파트매매거래 전처리"
      ],
      "metadata": {
        "id": "M0yKSVA9Je71"
      }
    },
    {
      "cell_type": "code",
      "source": [
        "aprtdf = dict()\n",
        "\n",
        "def 매매거래전처리(df, a):\n",
        "    for i in range(1, 217):\n",
        "        j = 2*i - 1\n",
        "        df['날짜'][j] = df['날짜'][j-1]\n",
        "\n",
        "\n",
        "    동호수 = df.iloc[::2].drop(columns = '동|면적', axis = 1)\n",
        "    면적 = df.iloc[1::2].drop(columns = '동|면적', axis = 1)\n",
        "\n",
        "\n",
        "\n",
        "    # 올바른 변수명 사용 및 문자열 결합 수정\n",
        "    aprtdf[f'{a}동호수'] = 동호수.reset_index(drop = True)\n",
        "    aprtdf[f'{a}면적'] = 면적.reset_index(drop = True)\n",
        "\n",
        "    def type (df) :\n",
        "      a = pd.to_datetime(df['날짜'], format='%Y년 %m월')\n",
        "      df.loc[df.index[0:], '날짜'] = a.dt.strftime('%Y-%m-%d')\n",
        "      df['날짜'] = pd.to_datetime(df['날짜'])\n",
        "      return(df)\n",
        "\n",
        "    aprtdf[f'{a}동호수'] = type(aprtdf[f'{a}동호수'])\n",
        "    aprtdf[f'{a}면적'] = type(aprtdf[f'{a}면적'])\n",
        "\n",
        "    return None\n"
      ],
      "metadata": {
        "id": "I7kR22HaJtHP"
      },
      "execution_count": 76,
      "outputs": []
    },
    {
      "cell_type": "code",
      "source": [
        "매매거래전처리(아파트거래, '거래')\n",
        "매매거래전처리(아파트매매, '매매')\n",
        "\n",
        "아파트거래_동호수 = aprtdf['거래동호수']\n",
        "아파트거래_면적 = aprtdf['거래면적']\n",
        "\n",
        "아파트매매_동호수 = aprtdf['매매동호수']\n",
        "아파트매매_면적 = aprtdf['매매면적']"
      ],
      "metadata": {
        "colab": {
          "base_uri": "https://localhost:8080/"
        },
        "id": "reSQIhpyL-yR",
        "outputId": "9ed3da42-022f-4d84-ea68-b8f4cad8c23a"
      },
      "execution_count": 77,
      "outputs": [
        {
          "output_type": "stream",
          "name": "stderr",
          "text": [
            "<ipython-input-76-a506486024a2>:6: SettingWithCopyWarning: \n",
            "A value is trying to be set on a copy of a slice from a DataFrame\n",
            "\n",
            "See the caveats in the documentation: https://pandas.pydata.org/pandas-docs/stable/user_guide/indexing.html#returning-a-view-versus-a-copy\n",
            "  df['날짜'][j] = df['날짜'][j-1]\n",
            "<ipython-input-76-a506486024a2>:6: SettingWithCopyWarning: \n",
            "A value is trying to be set on a copy of a slice from a DataFrame\n",
            "\n",
            "See the caveats in the documentation: https://pandas.pydata.org/pandas-docs/stable/user_guide/indexing.html#returning-a-view-versus-a-copy\n",
            "  df['날짜'][j] = df['날짜'][j-1]\n"
          ]
        }
      ]
    },
    {
      "cell_type": "markdown",
      "source": [
        "##### 자가변동률_월별 전처리"
      ],
      "metadata": {
        "id": "08P7g1kWOAyb"
      }
    },
    {
      "cell_type": "code",
      "source": [
        "for i in range(1, 237):\n",
        "        j = 2*i - 1\n",
        "        지가변동누적률['날짜'][j] = 지가변동누적률['날짜'][j-1]\n",
        "\n",
        "자가변동률_분기 = 지가변동누적률.iloc[::2].drop(columns = '변동률|누계', axis = 1).reset_index(drop = True)\n",
        "자가누적률_분기 = 지가변동누적률.iloc[1::2].drop(columns = '변동률|누계', axis = 1).reset_index(drop = True)"
      ],
      "metadata": {
        "colab": {
          "base_uri": "https://localhost:8080/"
        },
        "id": "TTRj0u55OMuY",
        "outputId": "6106d8ff-0c9f-4051-cadd-6236a3dc0ad6"
      },
      "execution_count": 78,
      "outputs": [
        {
          "output_type": "stream",
          "name": "stderr",
          "text": [
            "<ipython-input-78-a3c2bec9cdcf>:3: SettingWithCopyWarning: \n",
            "A value is trying to be set on a copy of a slice from a DataFrame\n",
            "\n",
            "See the caveats in the documentation: https://pandas.pydata.org/pandas-docs/stable/user_guide/indexing.html#returning-a-view-versus-a-copy\n",
            "  지가변동누적률['날짜'][j] = 지가변동누적률['날짜'][j-1]\n"
          ]
        }
      ]
    },
    {
      "cell_type": "code",
      "source": [
        "def 분기를월별로변환(df):\n",
        "    월별데이터리스트 = []\n",
        "    for i in range(len(df)):\n",
        "        year = df['날짜'][i][0:4]  # 연도 추출\n",
        "        qtr = int(df['날짜'][i][6:7])  # 분기 추출, 정수로 변환\n",
        "\n",
        "        # 해당 분기에 속하는 각 월의 날짜 생성\n",
        "        for month in range((qtr-1)*3 + 1, qtr*3 + 1):\n",
        "            new_row = df.iloc[i].copy()\n",
        "            new_row['날짜'] = f'{year}-{month:02d}-01'  # YYYY-MM-DD 형식으로 날짜 설정\n",
        "            월별데이터리스트.append(new_row)\n",
        "\n",
        "    # pd.concat을 사용하여 리스트에 저장된 모든 데이터 합치기\n",
        "    월별데이터 = pd.concat(월별데이터리스트, axis=1).transpose().reset_index(drop=True)\n",
        "\n",
        "    return 월별데이터\n",
        "\n",
        "자가변동률_분기_앞부분 = 분기를월별로변환(자가변동률_분기[:8])\n",
        "자가누적률_분기_앞부분 = 분기를월별로변환(자가누적률_분기[:8])"
      ],
      "metadata": {
        "id": "yqFc-sOXOJSa"
      },
      "execution_count": 79,
      "outputs": []
    },
    {
      "cell_type": "code",
      "source": [
        "#날짜형 타입설정\n",
        "def type1 (df) :\n",
        "      a = pd.to_datetime(df['날짜'], format='%Y년 %m월')\n",
        "      df.loc[df.index[0:], '날짜'] = a.dt.strftime('%Y-%m-%d')\n",
        "      return(df)\n",
        "\n",
        "자가변동률 = pd.concat([자가변동률_분기_앞부분,type1(자가변동률_분기[8:])], axis = 0)\n",
        "자가누적률 = pd.concat([자가누적률_분기_앞부분,type1(자가누적률_분기[8:])], axis = 0)"
      ],
      "metadata": {
        "colab": {
          "base_uri": "https://localhost:8080/"
        },
        "id": "TqvDRbFyhAiA",
        "outputId": "a88377ea-0ee8-4706-feaf-d0cf2452182a"
      },
      "execution_count": 80,
      "outputs": [
        {
          "output_type": "stream",
          "name": "stderr",
          "text": [
            "<ipython-input-80-f08533cc020a>:4: SettingWithCopyWarning: \n",
            "A value is trying to be set on a copy of a slice from a DataFrame.\n",
            "Try using .loc[row_indexer,col_indexer] = value instead\n",
            "\n",
            "See the caveats in the documentation: https://pandas.pydata.org/pandas-docs/stable/user_guide/indexing.html#returning-a-view-versus-a-copy\n",
            "  df.loc[df.index[0:], '날짜'] = a.dt.strftime('%Y-%m-%d')\n",
            "<ipython-input-80-f08533cc020a>:4: SettingWithCopyWarning: \n",
            "A value is trying to be set on a copy of a slice from a DataFrame.\n",
            "Try using .loc[row_indexer,col_indexer] = value instead\n",
            "\n",
            "See the caveats in the documentation: https://pandas.pydata.org/pandas-docs/stable/user_guide/indexing.html#returning-a-view-versus-a-copy\n",
            "  df.loc[df.index[0:], '날짜'] = a.dt.strftime('%Y-%m-%d')\n"
          ]
        }
      ]
    },
    {
      "cell_type": "code",
      "source": [
        "# 수치형 타입설정\n",
        "def type2 (df) :\n",
        "  df['날짜'] = pd.to_datetime(df['날짜'])\n",
        "\n",
        "  # '자가변동률_분기'라는 DataFrame을 가정하고, '날짜' 열을 제외한 모든 열을 float으로 변환합니다.\n",
        "  for column in df.columns:\n",
        "      if column != '날짜':  # '날짜' 열을 제외\n",
        "          df[column] = df[column].astype(float)\n",
        "  return df"
      ],
      "metadata": {
        "id": "DgLJ1MFPdzRW"
      },
      "execution_count": 81,
      "outputs": []
    },
    {
      "cell_type": "code",
      "source": [
        "자가변동률 = type2(자가변동률)\n",
        "자가누적률 = type2(자가누적률)"
      ],
      "metadata": {
        "id": "-0at_bBHUTWQ"
      },
      "execution_count": 82,
      "outputs": []
    },
    {
      "cell_type": "markdown",
      "source": [
        "##### 가계대출 전처리"
      ],
      "metadata": {
        "id": "OSXwWlnH1W3q"
      }
    },
    {
      "cell_type": "code",
      "source": [
        "def 분기를월별로변환(df):\n",
        "    월별데이터리스트 = []\n",
        "    for i in range(len(df)):\n",
        "        year = df['날짜'][i][0:4]  # 연도 추출\n",
        "        qtr = int(df['날짜'][i][4:5])  # 분기 추출, 정수로 변환\n",
        "\n",
        "        # 해당 분기에 속하는 각 월의 날짜 생성\n",
        "        for month in range((qtr-1)*3 + 1, qtr*3 + 1):\n",
        "            new_row = df.iloc[i].copy()\n",
        "            new_row['날짜'] = f'{year}-{month:02d}-01'  # YYYY-MM-DD 형식으로 날짜 설정\n",
        "            월별데이터리스트.append(new_row)\n",
        "\n",
        "    # pd.concat을 사용하여 리스트에 저장된 모든 데이터 합치기\n",
        "    월별데이터 = pd.concat(월별데이터리스트, axis=1).transpose().reset_index(drop=True)\n",
        "    월별데이터['날짜'] = pd.to_datetime(월별데이터['날짜'])\n",
        "\n",
        "    return 월별데이터\n",
        "\n",
        "가계대출_month = 분기를월별로변환(가계대출)"
      ],
      "metadata": {
        "id": "vRT2rrJ61fm3"
      },
      "execution_count": 83,
      "outputs": []
    },
    {
      "cell_type": "code",
      "source": [
        "가계대출_month['가계대출금액'] = 가계대출_month['가계대출금액'].str.replace(',', '').astype(float)"
      ],
      "metadata": {
        "id": "m-Ho3GRT1zQd"
      },
      "execution_count": 84,
      "outputs": []
    },
    {
      "cell_type": "markdown",
      "source": [
        "#### 물가상승률 전처리"
      ],
      "metadata": {
        "id": "VMrrLRnL3Bst"
      }
    },
    {
      "cell_type": "code",
      "source": [
        "#날짜형 타입설정\n",
        "def type1 (df) :\n",
        "      a = pd.to_datetime(df['날짜'], format='%Y%m월')\n",
        "      df.loc[df.index[0:], '날짜'] = a.dt.strftime('%Y-%m-%d')\n",
        "      df['날짜'] = pd.to_datetime(df['날짜'])\n",
        "      return(df)\n",
        "\n",
        "물가상승률_day = type1(물가상승률)"
      ],
      "metadata": {
        "id": "ZZITiIJ83Eto"
      },
      "execution_count": 85,
      "outputs": []
    },
    {
      "cell_type": "code",
      "source": [
        "# 수치형 타입설정\n",
        "def type2 (df) :\n",
        "  for column in df.columns:\n",
        "      if column != '날짜':  # '날짜' 열을 제외\n",
        "          df[column] = df[column].astype(float)\n",
        "  return df\n",
        "\n",
        "물가상승률 = type2(물가상승률_day)"
      ],
      "metadata": {
        "id": "dEi7nLn13g-r"
      },
      "execution_count": 86,
      "outputs": []
    },
    {
      "cell_type": "markdown",
      "source": [
        "### 구별 데이터 [dict형태]"
      ],
      "metadata": {
        "id": "3w4b6qnZ_a21"
      }
    },
    {
      "cell_type": "markdown",
      "source": [
        "##### 구별로 나눠져 있는 변수들을 구별_변수 데이터로 만들기"
      ],
      "metadata": {
        "id": "lQAKeazn8lxH"
      }
    },
    {
      "cell_type": "code",
      "source": [
        "gu = [ '서울', '종로구', '중구', '용산구', '성동구', '광진구', '동대문구', '중랑구', '성북구',\n",
        "       '강북구', '도봉구', '노원구', '은평구', '서대문구', '마포구', '양천구', '강서구', '구로구', '금천구',\n",
        "       '영등포구', '동작구', '관악구', '서초구', '강남구', '송파구', '강동구']"
      ],
      "metadata": {
        "id": "M4CE6i9Q_4bL"
      },
      "execution_count": 87,
      "outputs": []
    },
    {
      "cell_type": "code",
      "source": [
        "#1 날짜, 구_변수를 컬럼으로 하는 데이터프레임 26(구+서울) * 6개(변수)를 딕셔너리형태로 저장함\n",
        "gu_dict = {}\n",
        "def gu_df(df,name):\n",
        "  for i in gu :\n",
        "    gu_dict[f'{i}_{name}'] = pd.DataFrame(df[['날짜', i]]).rename(columns = {i : i + '_' + name})\n",
        "\n",
        "gu_df(아파트매매_면적, '매매면적')\n",
        "gu_df(아파트매매_동호수, '매매동호수')\n",
        "gu_df(아파트거래_면적, '거래면적')\n",
        "gu_df(아파트거래_동호수, '거래동호수')\n",
        "gu_df(자가변동률, '자가변동률')\n",
        "gu_df(자가누적률, '자가누적률')"
      ],
      "metadata": {
        "id": "UEbHMz8o_0Kz"
      },
      "execution_count": 88,
      "outputs": []
    },
    {
      "cell_type": "code",
      "source": [
        "#2 같은 구끼리 변수들을 합침 -> 서울+구별 데이터프레임 26개를 딕셔너리형태로 저장함.\n",
        "from functools import reduce\n",
        "\n",
        "gu_var = {}\n",
        "vars = ['자가변동률','자가누적률','매매면적','매매동호수','거래면적','거래동호수']\n",
        "for i in gu:\n",
        "    df_var = [gu_dict[f'{i}_{j}'] for j in vars]  # 각 구별로, 모든 변수에 대한 데이터 프레임 리스트 생성\n",
        "    gu_var[f'{i}_변수'] = reduce(lambda left, right: pd.merge(left, right, on='날짜', how='outer'), df_var)"
      ],
      "metadata": {
        "id": "92skKnsn10VF"
      },
      "execution_count": 89,
      "outputs": []
    },
    {
      "cell_type": "markdown",
      "source": [
        "##### 구 상관없는 공통 변수들을 합쳐서 데이터프레임 형성"
      ],
      "metadata": {
        "id": "fKitwZuS6Q6y"
      }
    },
    {
      "cell_type": "code",
      "source": [
        "from functools import reduce\n",
        "var = [선행지수, 건설업주가지수, 소비자물가지수,산업생산지수, 환율,\n",
        "국고채, gdp_new,코스피, 가계대출_month,물가상승률]\n",
        "def merge_dataframes_by_date(dfs):\n",
        "    # reduce 함수를 사용하여 리스트 내의 모든 데이터프레임을 순차적으로 합칩니다.\n",
        "    # pd.merge 함수의 on='날짜' 옵션으로 '날짜' 열을 기준으로 합치고,\n",
        "    # how='outer' 옵션으로 모든 날짜를 포함시킵니다.\n",
        "    merged_v = reduce(lambda left, right: pd.merge(left, right, on='날짜', how='outer'), dfs)\n",
        "    return merged_v\n",
        "\n",
        "# var 리스트에 포함된 모든 데이터프레임을 합칩니다.\n",
        "general_data = merge_dataframes_by_date(var)"
      ],
      "metadata": {
        "id": "mUkV6sEQwAAT"
      },
      "execution_count": 90,
      "outputs": []
    },
    {
      "cell_type": "markdown",
      "source": [
        "##### 구별로 나눠져 있는 데이터프레임[구_변수]과 공통 데이터프레임을 합침 -> 총 서울+구 26개 데이터 나옴 [dict형태]"
      ],
      "metadata": {
        "id": "7LE-aGC488mQ"
      }
    },
    {
      "cell_type": "code",
      "source": [
        "final_gu_vars = {}\n",
        "for i in gu:\n",
        "    # 각 구별로 병합된 데이터 프레임을 생성하고 final_gu_vars 딕셔너리에 저장\n",
        "    final_gu_vars[f'{i}_df'] = pd.merge(gu_var[f'{i}_변수'], general_data, on='날짜', how='left')"
      ],
      "metadata": {
        "id": "QZz36-uo5iCi"
      },
      "execution_count": 91,
      "outputs": []
    },
    {
      "cell_type": "markdown",
      "source": [
        "final_gu_vars['구이름_df']"
      ],
      "metadata": {
        "id": "0dYxUx7G8Zc2"
      }
    },
    {
      "cell_type": "markdown",
      "source": [
        "#### 최종 구별 변수 데이터프레임을 item값으로 갖는 딕셔너리 final_gu_vars를 pkl로 저장"
      ],
      "metadata": {
        "id": "TS4_g5d09dc4"
      }
    },
    {
      "cell_type": "code",
      "source": [
        "import pickle\n",
        "\n",
        "with open('./final_gu_vars.pkl', 'wb') as f:\n",
        "    pickle.dump(final_gu_vars, f)"
      ],
      "metadata": {
        "id": "1f02wccP8dZ0"
      },
      "execution_count": 94,
      "outputs": []
    },
    {
      "cell_type": "markdown",
      "source": [
        "열리는지 확인"
      ],
      "metadata": {
        "id": "BOCfxeKf9sH6"
      }
    },
    {
      "cell_type": "code",
      "source": [
        "with open('./final_gu_vars.pkl', 'rb') as f:\n",
        "    최종딕셔너리 = pickle.load(f)"
      ],
      "metadata": {
        "id": "RuyIBpA89rIU"
      },
      "execution_count": 93,
      "outputs": []
    },
    {
      "cell_type": "code",
      "source": [],
      "metadata": {
        "id": "Ud3vk47PpMhv"
      },
      "execution_count": 93,
      "outputs": []
    }
  ]
}