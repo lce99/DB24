{
  "nbformat": 4,
  "nbformat_minor": 0,
  "metadata": {
    "colab": {
      "provenance": []
    },
    "kernelspec": {
      "name": "python3",
      "display_name": "Python 3"
    },
    "language_info": {
      "name": "python"
    }
  },
  "cells": [
    {
      "cell_type": "code",
      "execution_count": 291,
      "metadata": {
        "id": "udltsQpSF0eK"
      },
      "outputs": [],
      "source": [
        "import numpy as np\n",
        "import pandas as pd"
      ]
    },
    {
      "cell_type": "code",
      "source": [
        "선행지수 = pd.read_csv(\"./_경기선행지수.csv\")\n",
        "건설업주가지수 = pd.read_csv(\"./_건설업주가지수.csv\")\n",
        "국고채 = pd.read_csv(\"./_국고채(3년).csv\")\n",
        "GDP = pd.read_csv(\"./_명목GDP_실질GDP변화율.csv\")\n",
        "산업생산지수 = pd.read_csv(\"./_산업생산지수.csv\")\n",
        "소비자물가지수 = pd.read_csv(\"./_소비자물가지수.csv\")\n",
        "코스피 = pd.read_csv(\"./_코스피지수.csv\")\n",
        "환율 = pd.read_csv(\"./_환율.csv\")"
      ],
      "metadata": {
        "id": "qUr2T_QfICc2"
      },
      "execution_count": 292,
      "outputs": []
    },
    {
      "cell_type": "markdown",
      "source": [
        "* 선행지수, 건설업주가지수, 소비자물가지수, 산업생산지수, 환율"
      ],
      "metadata": {
        "id": "16r4FZ50tGMk"
      }
    },
    {
      "cell_type": "code",
      "source": [
        "선행지수['날짜'] = pd.to_datetime(선행지수['날짜'], format='%Y.%m')\n",
        "선행지수['날짜'] =  pd.to_datetime(선행지수['날짜'].dt.strftime('%Y-%m'))\n",
        "#선행지수 = 선행지수.set_index('날짜')"
      ],
      "metadata": {
        "id": "hGGxo7WXjkUU"
      },
      "execution_count": 293,
      "outputs": []
    },
    {
      "cell_type": "code",
      "source": [
        "건설업주가지수['날짜'] = pd.to_datetime(건설업주가지수['날짜'].apply(lambda x: f\"{int(x):04d}-{int((x * 100) % 100):02d}\"))"
      ],
      "metadata": {
        "id": "n01ac0Zs5DBC"
      },
      "execution_count": 294,
      "outputs": []
    },
    {
      "cell_type": "code",
      "source": [
        "소비자물가지수['날짜'] =  pd.to_datetime(소비자물가지수['날짜'].apply(lambda x: f\"{int(x):04d}-{int((x * 100) % 100):02d}\"))"
      ],
      "metadata": {
        "id": "Ppmau9Ii5L5H"
      },
      "execution_count": 295,
      "outputs": []
    },
    {
      "cell_type": "code",
      "source": [
        "산업생산지수['날짜'][산업생산지수['날짜'] == '2023.11 p)'] = '2023.11'\n",
        "산업생산지수['날짜'][산업생산지수['날짜'] == '2023.12 p)'] = '2023.12'\n",
        "\n",
        "산업생산지수['날짜'] = pd.to_datetime(산업생산지수['날짜'])\n",
        "산업생산지수['날짜'] = pd.to_datetime(산업생산지수['날짜'].dt.strftime('%Y-%m'))\n",
        "\n",
        "#산업생산지수 = 산업생산지수.set_index('날짜')"
      ],
      "metadata": {
        "colab": {
          "base_uri": "https://localhost:8080/"
        },
        "id": "ebB1j_WwlMcB",
        "outputId": "53f9a60d-2817-44b8-a4ec-b5fbc9def1d6"
      },
      "execution_count": 296,
      "outputs": [
        {
          "output_type": "stream",
          "name": "stderr",
          "text": [
            "<ipython-input-296-58392a65a3d2>:1: SettingWithCopyWarning: \n",
            "A value is trying to be set on a copy of a slice from a DataFrame\n",
            "\n",
            "See the caveats in the documentation: https://pandas.pydata.org/pandas-docs/stable/user_guide/indexing.html#returning-a-view-versus-a-copy\n",
            "  산업생산지수['날짜'][산업생산지수['날짜'] == '2023.11 p)'] = '2023.11'\n",
            "<ipython-input-296-58392a65a3d2>:2: SettingWithCopyWarning: \n",
            "A value is trying to be set on a copy of a slice from a DataFrame\n",
            "\n",
            "See the caveats in the documentation: https://pandas.pydata.org/pandas-docs/stable/user_guide/indexing.html#returning-a-view-versus-a-copy\n",
            "  산업생산지수['날짜'][산업생산지수['날짜'] == '2023.12 p)'] = '2023.12'\n"
          ]
        }
      ]
    },
    {
      "cell_type": "code",
      "source": [
        "환율['날짜'] = pd.to_datetime(pd.to_datetime(환율['날짜']).dt.strftime('%Y-%m'))\n",
        "#환율 = 환율.set_index('날짜')"
      ],
      "metadata": {
        "id": "cwVHhOrkvsSf"
      },
      "execution_count": 297,
      "outputs": []
    },
    {
      "cell_type": "markdown",
      "source": [
        "* 국고채 전처리"
      ],
      "metadata": {
        "id": "KkPhyzYHlNBQ"
      }
    },
    {
      "cell_type": "code",
      "source": [
        "# '월'제거 후 날짜데이터타입으로 변경\n",
        "국고채['날짜'] = pd.to_datetime(국고채['날짜'].str.replace('월', ''), format='%Y%m')\n",
        "\n",
        "# 중복행 제거\n",
        "국고채 = 국고채.drop_duplicates().reset_index(drop=True)\n",
        "국고채['날짜'] =  pd.to_datetime(국고채['날짜'].dt.strftime('%Y-%m'))\n",
        "#국고채 = 국고채.set_index('날짜')"
      ],
      "metadata": {
        "id": "dEuNhgmTl5kY"
      },
      "execution_count": 298,
      "outputs": []
    },
    {
      "cell_type": "markdown",
      "source": [
        "* GDP 전처리"
      ],
      "metadata": {
        "id": "d2TL1pPToLYC"
      }
    },
    {
      "cell_type": "code",
      "source": [
        "# ','제거 후 수치형으로 변경\n",
        "GDP['국내총생산(명목GDP)'] = GDP['국내총생산(명목GDP)'].str.replace(',', '').astype(float)\n",
        "\n",
        "# 분기별 값은 해당 분기에 해당하는 월별 값으로 설정하는 함수 정의\n",
        "def 분기to월 (row):\n",
        "    year_분기 = row['날짜']\n",
        "    year = int(year_분기[:4]) #year만 가져옴\n",
        "    분기 = int(year_분기[4]) #분기만 가져옴\n",
        "    months_in_분기 = [(year, 분기 * 3 - 2), (year, 분기 * 3 - 1), (year, 분기 * 3)] #해당 분기에 해당하는 월 list\n",
        "    return pd.DataFrame({\n",
        "        '날짜': [f\"{year}{month:02d}\" for year, month in months_in_분기],\n",
        "        '국내총생산(명목GDP)': [row['국내총생산(명목GDP)']] * 3,\n",
        "        '경제성장률(실질GDP성장률)': [row['경제성장률(실질GDP성장률)']] * 3\n",
        "    })\n",
        "\n",
        "gdp_new = pd.concat([분기to월(row) for index, row in GDP.iterrows()])\n",
        "\n",
        "gdp_new.reset_index(drop=True, inplace=True)\n",
        "gdp_new['날짜'] = pd.to_datetime(gdp_new['날짜'], format='%Y%m')\n",
        "\n",
        "gdp_new['날짜'] = pd.to_datetime(gdp_new['날짜'].dt.strftime('%Y-%m'))\n",
        "#gdp_new = gdp_new.set_index('날짜')"
      ],
      "metadata": {
        "id": "uCc3pDHinwJc"
      },
      "execution_count": 299,
      "outputs": []
    },
    {
      "cell_type": "markdown",
      "source": [
        "* 코스피"
      ],
      "metadata": {
        "id": "55fpeo7EtD4K"
      }
    },
    {
      "cell_type": "code",
      "source": [
        "코스피['종가'] = 코스피['종가'].str.replace(',', '').astype(float)\n",
        "코스피['날짜'] = pd.to_datetime(코스피['날짜'])\n",
        "코스피['날짜'] = pd.to_datetime(코스피['날짜'].dt.strftime('%Y-%m'))\n",
        "코스피 = 코스피.sort_values('날짜').reset_index(drop = True)"
      ],
      "metadata": {
        "id": "-5GzKU6a2LJq"
      },
      "execution_count": 300,
      "outputs": []
    },
    {
      "cell_type": "markdown",
      "source": [
        "변수 데이터 합치기"
      ],
      "metadata": {
        "id": "u5fKt46pv-0k"
      }
    },
    {
      "cell_type": "code",
      "source": [
        "var = [선행지수, 건설업주가지수, 소비자물가지수, 산업생산지수, 환율, 국고채, 코스피, gdp_new]\n",
        "var_df = pd.concat(var, axis=1).drop(columns='날짜').set_index(선행지수['날짜'])"
      ],
      "metadata": {
        "id": "mUkV6sEQwAAT"
      },
      "execution_count": 301,
      "outputs": []
    },
    {
      "cell_type": "code",
      "source": [
        "var_df.to_csv(\"./전처리완료변수.csv\")"
      ],
      "metadata": {
        "id": "RHprt3-VyIAl"
      },
      "execution_count": 303,
      "outputs": []
    }
  ]
}